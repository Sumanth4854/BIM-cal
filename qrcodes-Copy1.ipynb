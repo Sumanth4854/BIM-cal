{
 "cells": [
  {
   "cell_type": "code",
   "execution_count": 35,
   "id": "19c95c34-d93e-4e71-a010-e53eeda247f3",
   "metadata": {},
   "outputs": [],
   "source": [
    "import qrcode\n",
    "from PIL import Image\n",
    "qr=qrcode.QRCode(version=1)\n",
    "qr.add_data(\"https://mitfgc.in/\")\n",
    "qr.make(fit=True)\n",
    "img=qr.make_image(fill_color=\"red\",back_color=\"white\")\n",
    "img.save(\"colorqr.png\")"
   ]
  },
  {
   "cell_type": "code",
   "execution_count": 37,
   "id": "4756b655-2afd-4d6c-8104-7ebf72214e44",
   "metadata": {},
   "outputs": [],
   "source": [
    "import qrcode as qr\n",
    "img=qr.make(\"https://mitfgc.in/programmes-offered\")\n",
    "img.save(\"mitfgBCA.png\")\n"
   ]
  }
 ],
 "metadata": {
  "kernelspec": {
   "display_name": "Python 3 (ipykernel)",
   "language": "python",
   "name": "python3"
  },
  "language_info": {
   "codemirror_mode": {
    "name": "ipython",
    "version": 3
   },
   "file_extension": ".py",
   "mimetype": "text/x-python",
   "name": "python",
   "nbconvert_exporter": "python",
   "pygments_lexer": "ipython3",
   "version": "3.11.7"
  }
 },
 "nbformat": 4,
 "nbformat_minor": 5
}
