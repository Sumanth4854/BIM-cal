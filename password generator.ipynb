{
 "cells": [
  {
   "cell_type": "code",
   "execution_count": 2,
   "id": "01e10ca8-3dad-45d7-a521-6c11f1cf259f",
   "metadata": {},
   "outputs": [],
   "source": [
    "import tkinter as tk\n",
    "from random import choice, randint\n",
    "\n",
    "def generate_password(length):\n",
    "    characters = 'abcdefghijklmnopqrstuvwxyzABCDEFGHIJKLMNOPQRSTUVWXYZ0123456789!@#$%^&*()'\n",
    "    password = ''.join(choice(characters) for _ in range(length))\n",
    "    return password\n",
    "\n",
    "def create_password():\n",
    "    password_length = int(entry.get())\n",
    "    password = generate_password(password_length)\n",
    "    result_label.config(text=f'Generated Password: {password}')\n",
    "    \n",
    "\n",
    "root = tk.Tk()\n",
    "root.title('Password Generator')\n",
    "tk.Label(root, text='Enter Password Length').pack()\n",
    "entry = tk.Entry(root)\n",
    "entry.pack()\n",
    "\n",
    "button = tk.Button(root, text='Generate Password', command=create_password)\n",
    "button.pack()\n",
    "\n",
    "result_label = tk.Label(root, text='')\n",
    "result_label.pack()\n",
    "\n",
    "root.mainloop()"
   ]
  }
 ],
 "metadata": {
  "kernelspec": {
   "display_name": "Python 3 (ipykernel)",
   "language": "python",
   "name": "python3"
  },
  "language_info": {
   "codemirror_mode": {
    "name": "ipython",
    "version": 3
   },
   "file_extension": ".py",
   "mimetype": "text/x-python",
   "name": "python",
   "nbconvert_exporter": "python",
   "pygments_lexer": "ipython3",
   "version": "3.11.7"
  }
 },
 "nbformat": 4,
 "nbformat_minor": 5
}
