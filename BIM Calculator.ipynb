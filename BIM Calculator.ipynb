{
 "cells": [
  {
   "cell_type": "code",
   "execution_count": 83,
   "id": "96613630-3898-410b-90ea-3ba0db778b8b",
   "metadata": {},
   "outputs": [],
   "source": [
    "# BIM calculator:\n",
    "import tkinter as tk\n",
    "from tkinter import *\n",
    "from tkinter import messagebox\n",
    "def dim():\n",
    "    height=float(height_entry.get())\n",
    "    weight=float(weight_entry.get())\n",
    "    bmi=weight/(height**2)\n",
    "    bmi=round(bmi,2)\n",
    "    bmi_result.config(text=bmi)\n",
    "    if bmi <= 18.5:\n",
    "        messagebox.showinfo(\"BMI Category\",\"under weight\")\n",
    "    elif bmi >18.5 and bmi <= 30:\n",
    "        messagebox.showinfo(\"BMI Category\",\"normal\")\n",
    "    elif bmi > 30:\n",
    "        messagebox.showinfo(\"BMI Category\",\"over weight\")\n",
    "    else:\n",
    "        messagebpx.showinfo(\"BMI category\",\"obesoity\")\n",
    "window=tk.Tk()\n",
    "window.title(\"BIM calculator\")\n",
    "\n",
    "\n",
    "weight_label=tk.Label(window,text=\"weight\")\n",
    "weight_label.pack()\n",
    "\n",
    "weight_entry=tk.Entry(window)\n",
    "weight_entry.pack()\n",
    "\n",
    "height_label=tk.Label(window,text=\"height\")\n",
    "height_label.pack()\n",
    "\n",
    "height_entry=tk.Entry(window)\n",
    "height_entry.pack()\n",
    "\n",
    "bmi_result=tk.Label(window,text=\"result\")\n",
    "bmi_result.pack()\n",
    "\n",
    "button_label=tk.Button(window,text=\"calculate_bmi\",command=dim)\n",
    "button_label.pack()\n",
    "\n",
    "\n",
    "\n",
    "\n",
    "window.mainloop()\n",
    "    "
   ]
  },
  {
   "cell_type": "code",
   "execution_count": null,
   "id": "76d3bb73-88f6-412a-97b4-04beb1204272",
   "metadata": {},
   "outputs": [],
   "source": []
  }
 ],
 "metadata": {
  "kernelspec": {
   "display_name": "Python 3 (ipykernel)",
   "language": "python",
   "name": "python3"
  },
  "language_info": {
   "codemirror_mode": {
    "name": "ipython",
    "version": 3
   },
   "file_extension": ".py",
   "mimetype": "text/x-python",
   "name": "python",
   "nbconvert_exporter": "python",
   "pygments_lexer": "ipython3",
   "version": "3.11.7"
  }
 },
 "nbformat": 4,
 "nbformat_minor": 5
}
